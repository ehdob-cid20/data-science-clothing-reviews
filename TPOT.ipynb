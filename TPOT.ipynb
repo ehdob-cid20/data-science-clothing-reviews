{
  "nbformat": 4,
  "nbformat_minor": 0,
  "metadata": {
    "colab": {
      "name": "TPOT.ipynb",
      "provenance": [],
      "collapsed_sections": []
    },
    "kernelspec": {
      "name": "python3",
      "display_name": "Python 3"
    },
    "language_info": {
      "name": "python"
    }
  },
  "cells": [
    {
      "cell_type": "markdown",
      "source": [
        "<h1><strong>Análise de sentimentos em avaliações de e-commerce de roupas</strong></h1>\n",
        "\n",
        "\n",
        "**Objetivo**:\n",
        "\n",
        "Classificar as avaliações de e-commerce de roupas em positiva ou negativa.\n",
        "\n",
        "*   Dataset: https://www.kaggle.com/nicapotato/womens-ecommerce-clothing-reviews\n",
        "\n",
        "***Orientador:*** Thiago de Melo\n",
        "\n",
        "***Orientando:*** Edson Brilhante"
      ],
      "metadata": {
        "id": "iQ0SsHfUtj8d"
      }
    },
    {
      "cell_type": "markdown",
      "metadata": {
        "id": "3VDVe7I2ajbK"
      },
      "source": [
        "# Importando as bibliotecas"
      ]
    },
    {
      "cell_type": "code",
      "source": [
        "!pip install tpot"
      ],
      "metadata": {
        "id": "D7qLuf9nHey6",
        "colab": {
          "base_uri": "https://localhost:8080/"
        },
        "outputId": "92ce69fe-ad1b-4863-922b-b9bdf97660db"
      },
      "execution_count": 1,
      "outputs": [
        {
          "output_type": "stream",
          "name": "stdout",
          "text": [
            "Collecting tpot\n",
            "  Downloading TPOT-0.11.7-py3-none-any.whl (87 kB)\n",
            "\u001b[K     |████████████████████████████████| 87 kB 751 kB/s \n",
            "\u001b[?25hCollecting stopit>=1.1.1\n",
            "  Downloading stopit-1.1.2.tar.gz (18 kB)\n",
            "Requirement already satisfied: xgboost>=1.1.0 in ./anaconda3/envs/dev37/lib/python3.7/site-packages (from tpot) (1.4.2)\n",
            "Collecting deap>=1.2\n",
            "  Downloading deap-1.3.1-cp37-cp37m-manylinux_2_5_x86_64.manylinux1_x86_64.manylinux_2_12_x86_64.manylinux2010_x86_64.whl (160 kB)\n",
            "\u001b[K     |████████████████████████████████| 160 kB 2.5 MB/s \n",
            "\u001b[?25hCollecting update-checker>=0.16\n",
            "  Downloading update_checker-0.18.0-py3-none-any.whl (7.0 kB)\n",
            "Requirement already satisfied: scikit-learn>=0.22.0 in ./anaconda3/envs/dev37/lib/python3.7/site-packages (from tpot) (0.24.2)\n",
            "Requirement already satisfied: numpy>=1.16.3 in ./anaconda3/envs/dev37/lib/python3.7/site-packages (from tpot) (1.21.2)\n",
            "Requirement already satisfied: pandas>=0.24.2 in ./anaconda3/envs/dev37/lib/python3.7/site-packages (from tpot) (1.3.5)\n",
            "Requirement already satisfied: joblib>=0.13.2 in ./anaconda3/envs/dev37/lib/python3.7/site-packages (from tpot) (1.1.0)\n",
            "Requirement already satisfied: tqdm>=4.36.1 in ./anaconda3/envs/dev37/lib/python3.7/site-packages (from tpot) (4.62.3)\n",
            "Requirement already satisfied: scipy>=1.3.1 in ./anaconda3/envs/dev37/lib/python3.7/site-packages (from tpot) (1.6.3)\n",
            "Requirement already satisfied: python-dateutil>=2.7.3 in ./anaconda3/envs/dev37/lib/python3.7/site-packages (from pandas>=0.24.2->tpot) (2.8.2)\n",
            "Requirement already satisfied: pytz>=2017.3 in ./anaconda3/envs/dev37/lib/python3.7/site-packages (from pandas>=0.24.2->tpot) (2021.3)\n",
            "Requirement already satisfied: six>=1.5 in ./anaconda3/envs/dev37/lib/python3.7/site-packages (from python-dateutil>=2.7.3->pandas>=0.24.2->tpot) (1.16.0)\n",
            "Requirement already satisfied: threadpoolctl>=2.0.0 in ./anaconda3/envs/dev37/lib/python3.7/site-packages (from scikit-learn>=0.22.0->tpot) (3.1.0)\n",
            "Requirement already satisfied: requests>=2.3.0 in ./anaconda3/envs/dev37/lib/python3.7/site-packages (from update-checker>=0.16->tpot) (2.27.1)\n",
            "Requirement already satisfied: urllib3<1.27,>=1.21.1 in ./anaconda3/envs/dev37/lib/python3.7/site-packages (from requests>=2.3.0->update-checker>=0.16->tpot) (1.26.8)\n",
            "Requirement already satisfied: charset-normalizer~=2.0.0 in ./anaconda3/envs/dev37/lib/python3.7/site-packages (from requests>=2.3.0->update-checker>=0.16->tpot) (2.0.4)\n",
            "Requirement already satisfied: certifi>=2017.4.17 in ./anaconda3/envs/dev37/lib/python3.7/site-packages (from requests>=2.3.0->update-checker>=0.16->tpot) (2021.10.8)\n",
            "Requirement already satisfied: idna<4,>=2.5 in ./anaconda3/envs/dev37/lib/python3.7/site-packages (from requests>=2.3.0->update-checker>=0.16->tpot) (3.3)\n",
            "Building wheels for collected packages: stopit\n",
            "  Building wheel for stopit (setup.py) ... \u001b[?25l-\b \bdone\n",
            "\u001b[?25h  Created wheel for stopit: filename=stopit-1.1.2-py3-none-any.whl size=11956 sha256=f71ad49ec92f0b4b557a50fa6474d64f9bbd641ed674b6e1849322b0be1e7b9a\n",
            "  Stored in directory: /home/edx/.cache/pip/wheels/e2/d2/79/eaf81edb391e27c87f51b8ef901ecc85a5363dc96b8b8d71e3\n",
            "Successfully built stopit\n",
            "Installing collected packages: update-checker, stopit, deap, tpot\n",
            "Successfully installed deap-1.3.1 stopit-1.1.2 tpot-0.11.7 update-checker-0.18.0\n"
          ]
        }
      ]
    },
    {
      "cell_type": "code",
      "metadata": {
        "id": "wfFEXZC0WS-V"
      },
      "source": [
        "import numpy as np\n",
        "import pandas as pd\n",
        "import re\n",
        "import nltk\n",
        "from nltk.tokenize import sent_tokenize, word_tokenize\n",
        "from nltk.stem.porter import PorterStemmer\n",
        "from sklearn.model_selection import train_test_split\n",
        "from sklearn.feature_extraction.text import CountVectorizer\n",
        "from tpot import TPOTClassifier\n",
        "from sklearn.metrics import confusion_matrix, accuracy_score, classification_report"
      ],
      "execution_count": 1,
      "outputs": []
    },
    {
      "cell_type": "markdown",
      "source": [
        "# Importando o *dataset*"
      ],
      "metadata": {
        "id": "U6RfC6N1vqup"
      }
    },
    {
      "cell_type": "code",
      "source": [
        "dataset = pd.read_csv('/content/drive/MyDrive/Edson Henrique/dataset/Womens Clothing E-Commerce Reviews.csv')"
      ],
      "metadata": {
        "id": "c7zwVW_Bvv91"
      },
      "execution_count": 5,
      "outputs": []
    },
    {
      "cell_type": "markdown",
      "metadata": {
        "id": "q6FrJ-kHTLGz"
      },
      "source": [
        "# Visualização do *dataset*"
      ]
    },
    {
      "cell_type": "code",
      "metadata": {
        "id": "XmJaNSzL49-l",
        "colab": {
          "base_uri": "https://localhost:8080/"
        },
        "outputId": "fe230c66-5254-4bb8-99ea-6250c5f00177"
      },
      "source": [
        "dataset.info()"
      ],
      "execution_count": 6,
      "outputs": [
        {
          "output_type": "stream",
          "name": "stdout",
          "text": [
            "<class 'pandas.core.frame.DataFrame'>\n",
            "RangeIndex: 23486 entries, 0 to 23485\n",
            "Data columns (total 11 columns):\n",
            " #   Column                   Non-Null Count  Dtype \n",
            "---  ------                   --------------  ----- \n",
            " 0   Unnamed: 0               23486 non-null  int64 \n",
            " 1   Clothing ID              23486 non-null  int64 \n",
            " 2   Age                      23486 non-null  int64 \n",
            " 3   Title                    19676 non-null  object\n",
            " 4   Review Text              22641 non-null  object\n",
            " 5   Rating                   23486 non-null  int64 \n",
            " 6   Recommended IND          23486 non-null  int64 \n",
            " 7   Positive Feedback Count  23486 non-null  int64 \n",
            " 8   Division Name            23472 non-null  object\n",
            " 9   Department Name          23472 non-null  object\n",
            " 10  Class Name               23472 non-null  object\n",
            "dtypes: int64(6), object(5)\n",
            "memory usage: 2.0+ MB\n"
          ]
        }
      ]
    },
    {
      "cell_type": "markdown",
      "metadata": {
        "id": "TI5TF5Rzd8Rt"
      },
      "source": [
        "# Modelagem"
      ]
    },
    {
      "cell_type": "markdown",
      "source": [
        "## Seleciona as colunas '*Review Text*' e '*Rating*'"
      ],
      "metadata": {
        "id": "xu77a2Uw6PdL"
      }
    },
    {
      "cell_type": "code",
      "source": [
        "dataset = dataset[['Review Text', 'Rating']]\n",
        "dataset = dataset.dropna()\n",
        "dataset = dataset.reset_index(drop=True)\n",
        "dataset.info()"
      ],
      "metadata": {
        "id": "704NLyW26PzS",
        "colab": {
          "base_uri": "https://localhost:8080/"
        },
        "outputId": "afcdbc71-9f92-409e-a9aa-6dce230e9c2c"
      },
      "execution_count": 7,
      "outputs": [
        {
          "output_type": "stream",
          "name": "stdout",
          "text": [
            "<class 'pandas.core.frame.DataFrame'>\n",
            "RangeIndex: 22641 entries, 0 to 22640\n",
            "Data columns (total 2 columns):\n",
            " #   Column       Non-Null Count  Dtype \n",
            "---  ------       --------------  ----- \n",
            " 0   Review Text  22641 non-null  object\n",
            " 1   Rating       22641 non-null  int64 \n",
            "dtypes: int64(1), object(1)\n",
            "memory usage: 353.9+ KB\n"
          ]
        }
      ]
    },
    {
      "cell_type": "markdown",
      "source": [
        "## Encoding"
      ],
      "metadata": {
        "id": "HHSjAcip7b3J"
      }
    },
    {
      "cell_type": "markdown",
      "source": [
        "Seleciona o atributo *'Rating'* e o converte da seguinte forma:\n",
        "\n",
        "\n",
        "\n",
        "*   1, 2 e 3: negativa\n",
        "*   4 e 5: positiva"
      ],
      "metadata": {
        "id": "GRcTs1OPA6ts"
      }
    },
    {
      "cell_type": "code",
      "source": [
        "dataset['Rating'] = dataset['Rating'].apply(lambda x: 1 if x >= 4 else 0)\n",
        "#dataset['Rating'] = pd.Categorical(dataset['Rating'])"
      ],
      "metadata": {
        "id": "4ASCe60r9_rt"
      },
      "execution_count": 8,
      "outputs": []
    },
    {
      "cell_type": "code",
      "source": [
        "dataset"
      ],
      "metadata": {
        "id": "5x7gAsoH9vWi",
        "colab": {
          "base_uri": "https://localhost:8080/",
          "height": 463
        },
        "outputId": "84424a9e-3696-45dd-bef1-5cc01dda0690"
      },
      "execution_count": 9,
      "outputs": [
        {
          "output_type": "execute_result",
          "data": {
            "text/plain": [
              "                                             Review Text  Rating\n",
              "0      Absolutely wonderful - silky and sexy and comf...       1\n",
              "1      Love this dress!  it's sooo pretty.  i happene...       1\n",
              "2      I had such high hopes for this dress and reall...       0\n",
              "3      I love, love, love this jumpsuit. it's fun, fl...       1\n",
              "4      This shirt is very flattering to all due to th...       1\n",
              "...                                                  ...     ...\n",
              "22636  I was very happy to snag this dress at such a ...       1\n",
              "22637  It reminds me of maternity clothes. soft, stre...       0\n",
              "22638  This fit well, but the top was very see throug...       0\n",
              "22639  I bought this dress for a wedding i have this ...       0\n",
              "22640  This dress in a lovely platinum is feminine an...       1\n",
              "\n",
              "[22641 rows x 2 columns]"
            ],
            "text/html": [
              "<div>\n",
              "<style scoped>\n",
              "    .dataframe tbody tr th:only-of-type {\n",
              "        vertical-align: middle;\n",
              "    }\n",
              "\n",
              "    .dataframe tbody tr th {\n",
              "        vertical-align: top;\n",
              "    }\n",
              "\n",
              "    .dataframe thead th {\n",
              "        text-align: right;\n",
              "    }\n",
              "</style>\n",
              "<table border=\"1\" class=\"dataframe\">\n",
              "  <thead>\n",
              "    <tr style=\"text-align: right;\">\n",
              "      <th></th>\n",
              "      <th>Review Text</th>\n",
              "      <th>Rating</th>\n",
              "    </tr>\n",
              "  </thead>\n",
              "  <tbody>\n",
              "    <tr>\n",
              "      <th>0</th>\n",
              "      <td>Absolutely wonderful - silky and sexy and comf...</td>\n",
              "      <td>1</td>\n",
              "    </tr>\n",
              "    <tr>\n",
              "      <th>1</th>\n",
              "      <td>Love this dress!  it's sooo pretty.  i happene...</td>\n",
              "      <td>1</td>\n",
              "    </tr>\n",
              "    <tr>\n",
              "      <th>2</th>\n",
              "      <td>I had such high hopes for this dress and reall...</td>\n",
              "      <td>0</td>\n",
              "    </tr>\n",
              "    <tr>\n",
              "      <th>3</th>\n",
              "      <td>I love, love, love this jumpsuit. it's fun, fl...</td>\n",
              "      <td>1</td>\n",
              "    </tr>\n",
              "    <tr>\n",
              "      <th>4</th>\n",
              "      <td>This shirt is very flattering to all due to th...</td>\n",
              "      <td>1</td>\n",
              "    </tr>\n",
              "    <tr>\n",
              "      <th>...</th>\n",
              "      <td>...</td>\n",
              "      <td>...</td>\n",
              "    </tr>\n",
              "    <tr>\n",
              "      <th>22636</th>\n",
              "      <td>I was very happy to snag this dress at such a ...</td>\n",
              "      <td>1</td>\n",
              "    </tr>\n",
              "    <tr>\n",
              "      <th>22637</th>\n",
              "      <td>It reminds me of maternity clothes. soft, stre...</td>\n",
              "      <td>0</td>\n",
              "    </tr>\n",
              "    <tr>\n",
              "      <th>22638</th>\n",
              "      <td>This fit well, but the top was very see throug...</td>\n",
              "      <td>0</td>\n",
              "    </tr>\n",
              "    <tr>\n",
              "      <th>22639</th>\n",
              "      <td>I bought this dress for a wedding i have this ...</td>\n",
              "      <td>0</td>\n",
              "    </tr>\n",
              "    <tr>\n",
              "      <th>22640</th>\n",
              "      <td>This dress in a lovely platinum is feminine an...</td>\n",
              "      <td>1</td>\n",
              "    </tr>\n",
              "  </tbody>\n",
              "</table>\n",
              "<p>22641 rows × 2 columns</p>\n",
              "</div>"
            ]
          },
          "metadata": {},
          "execution_count": 9
        }
      ]
    },
    {
      "cell_type": "markdown",
      "source": [
        "## Limpando as avaliações"
      ],
      "metadata": {
        "id": "qaek5UNVu36o"
      }
    },
    {
      "cell_type": "code",
      "source": [
        "english_stopwords = list()\n",
        "with open('/content/drive/MyDrive/Edson Henrique/code/stopwords/english', 'r') as a_file:\n",
        "  for line in a_file:\n",
        "    stripped_line = line.strip()\n",
        "    english_stopwords.append(stripped_line)\n",
        "\n",
        "excluded_words = (\"not\", \"no\",  'aren', \"aren't\", 'couldn', \"couldn't\", 'didn', \"didn't\", 'doesn', \"doesn't\", 'hadn', \"hadn't\", 'hasn', \"hasn't\", 'haven', \"haven't\", 'isn', \"isn't\", 'shouldn', \"shouldn't\",  \"won't\", 'wouldn', \"wouldn't\")\n",
        "english_stopwords = [x for x in english_stopwords if x not in excluded_words]\n",
        "print(english_stopwords)"
      ],
      "metadata": {
        "id": "zOLyUmteD2iq",
        "colab": {
          "base_uri": "https://localhost:8080/"
        },
        "outputId": "02985c93-5ff9-4b2e-b7d9-83e684b58607"
      },
      "execution_count": 11,
      "outputs": [
        {
          "output_type": "stream",
          "name": "stdout",
          "text": [
            "['i', 'me', 'my', 'myself', 'we', 'our', 'ours', 'ourselves', 'you', \"you're\", \"you've\", \"you'll\", \"you'd\", 'your', 'yours', 'yourself', 'yourselves', 'he', 'him', 'his', 'himself', 'she', \"she's\", 'her', 'hers', 'herself', 'it', \"it's\", 'its', 'itself', 'they', 'them', 'their', 'theirs', 'themselves', 'what', 'which', 'who', 'whom', 'this', 'that', \"that'll\", 'these', 'those', 'am', 'is', 'are', 'was', 'were', 'be', 'been', 'being', 'have', 'has', 'had', 'having', 'do', 'does', 'did', 'doing', 'a', 'an', 'the', 'and', 'but', 'if', 'or', 'because', 'as', 'until', 'while', 'of', 'at', 'by', 'for', 'with', 'about', 'against', 'between', 'into', 'through', 'during', 'before', 'after', 'above', 'below', 'to', 'from', 'up', 'down', 'in', 'out', 'on', 'off', 'over', 'under', 'again', 'further', 'then', 'once', 'here', 'there', 'when', 'where', 'why', 'how', 'all', 'any', 'both', 'each', 'few', 'more', 'most', 'other', 'some', 'such', 'nor', 'only', 'own', 'same', 'so', 'than', 'too', 'very', 's', 't', 'can', 'will', 'just', 'don', \"don't\", 'should', \"should've\", 'now', 'd', 'll', 'm', 'o', 're', 've', 'y', 'ain', 'ma', 'mightn', \"mightn't\", 'mustn', \"mustn't\", 'needn', \"needn't\", 'shan', \"shan't\", 'wasn', \"wasn't\", 'weren', \"weren't\", 'won']\n"
          ]
        }
      ]
    },
    {
      "cell_type": "code",
      "source": [
        "corpus = []\n",
        "for i in range (0, dataset.shape[0]):\n",
        "  review = re.sub('[^a-zA-Z]', ' ', dataset['Review Text'][i])\n",
        "  review = review.lower()\n",
        "  review = review.split()\n",
        "  ps = PorterStemmer()\n",
        "  review = [ps.stem(word) for word in review if not word in set(english_stopwords)]\n",
        "  review = ' '.join(review)\n",
        "  corpus.append(review)"
      ],
      "metadata": {
        "id": "9yuwtrWIEnN0"
      },
      "execution_count": 12,
      "outputs": []
    },
    {
      "cell_type": "code",
      "source": [
        "corpus[0]"
      ],
      "metadata": {
        "id": "vufGsa8fY8od",
        "colab": {
          "base_uri": "https://localhost:8080/"
        },
        "outputId": "7e59b5b8-fdf7-4022-d300-90175c1299d2"
      },
      "execution_count": 13,
      "outputs": [
        {
          "output_type": "execute_result",
          "data": {
            "text/plain": [
              "'absolut wonder silki sexi comfort'"
            ]
          },
          "metadata": {},
          "execution_count": 13
        }
      ]
    },
    {
      "cell_type": "code",
      "source": [
        "dataset.iloc[0]"
      ],
      "metadata": {
        "id": "EntLQntcZmbo",
        "colab": {
          "base_uri": "https://localhost:8080/"
        },
        "outputId": "996e3e0d-e648-4cbd-8e89-9042b5cdc540"
      },
      "execution_count": 14,
      "outputs": [
        {
          "output_type": "execute_result",
          "data": {
            "text/plain": [
              "Review Text    Absolutely wonderful - silky and sexy and comf...\n",
              "Rating                                                         1\n",
              "Name: 0, dtype: object"
            ]
          },
          "metadata": {},
          "execution_count": 14
        }
      ]
    },
    {
      "cell_type": "markdown",
      "source": [
        "## Criando o modelo *bag of words*"
      ],
      "metadata": {
        "id": "M1U7mvWrubZJ"
      }
    },
    {
      "cell_type": "code",
      "source": [
        "cv = CountVectorizer(max_features = 1500)\n",
        "X = cv.fit_transform(corpus).toarray()\n",
        "y = dataset.iloc[:, -1].values"
      ],
      "metadata": {
        "id": "9HM2b8eJuZH_"
      },
      "execution_count": 15,
      "outputs": []
    },
    {
      "cell_type": "markdown",
      "metadata": {
        "id": "DH_VjgPzC2cd"
      },
      "source": [
        "## Dividindo o *dataset* em treino e teste"
      ]
    },
    {
      "cell_type": "code",
      "source": [
        "X_train, X_test, y_train, y_test = train_test_split(X, y, test_size = 0.2, random_state = 0)"
      ],
      "metadata": {
        "id": "ZU5a0inxHEZ2"
      },
      "execution_count": 16,
      "outputs": []
    },
    {
      "cell_type": "markdown",
      "source": [
        "## Treino"
      ],
      "metadata": {
        "id": "OmLuXzpgAUOB"
      }
    },
    {
      "cell_type": "code",
      "source": [
        "tpot = TPOTClassifier(max_time_mins = 10, n_jobs = -2, random_state=0)\n",
        "tpot.fit(X_train, y_train)"
      ],
      "metadata": {
        "id": "bVNZgcJWt2Xm",
        "colab": {
          "base_uri": "https://localhost:8080/"
        },
        "outputId": "1cfbd82f-2e0e-4152-9bd0-03a22a48d81e"
      },
      "execution_count": 19,
      "outputs": [
        {
          "output_type": "execute_result",
          "data": {
            "text/plain": [
              "TPOTClassifier(max_time_mins=10, n_jobs=-2, random_state=0)"
            ]
          },
          "metadata": {},
          "execution_count": 19
        }
      ]
    },
    {
      "cell_type": "markdown",
      "source": [
        "## Teste"
      ],
      "metadata": {
        "id": "SmY50VpIsuRU"
      }
    },
    {
      "cell_type": "code",
      "source": [
        "y_pred = tpot.predict(X_test)"
      ],
      "metadata": {
        "id": "LXdFdCxrF1ts"
      },
      "execution_count": 20,
      "outputs": []
    },
    {
      "cell_type": "code",
      "source": [
        "print('Matriz de confusão')\n",
        "print(confusion_matrix(y_test, y_pred))\n",
        "\n",
        "print('\\nMétricas')\n",
        "print(classification_report(y_test, y_pred, digits=3))\n",
        "\n",
        "print('\\nScore')\n",
        "print(accuracy_score(y_test, y_pred))"
      ],
      "metadata": {
        "id": "Zt23Y01DIvVl",
        "colab": {
          "base_uri": "https://localhost:8080/"
        },
        "outputId": "127e91b2-26b4-4835-b924-63f5eade7061"
      },
      "execution_count": 21,
      "outputs": [
        {
          "output_type": "stream",
          "name": "stdout",
          "text": [
            "Matriz de confusão\n",
            "[[ 668  449]\n",
            " [ 173 3239]]\n",
            "\n",
            "Métricas\n",
            "              precision    recall  f1-score   support\n",
            "\n",
            "           0      0.794     0.598     0.682      1117\n",
            "           1      0.878     0.949     0.912      3412\n",
            "\n",
            "    accuracy                          0.863      4529\n",
            "   macro avg      0.836     0.774     0.797      4529\n",
            "weighted avg      0.858     0.863     0.856      4529\n",
            "\n",
            "\n",
            "Score\n",
            "0.8626628394789136\n"
          ]
        }
      ]
    }
  ]
}